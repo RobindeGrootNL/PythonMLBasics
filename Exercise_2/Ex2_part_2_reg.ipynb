{
 "cells": [
  {
   "cell_type": "markdown",
   "metadata": {},
   "source": [
    "# Machine Learning Python Exercise 2.2: Regularized Logistic regression"
   ]
  },
  {
   "cell_type": "code",
   "execution_count": 1,
   "metadata": {},
   "outputs": [
    {
     "name": "stdout",
     "output_type": "stream",
     "text": [
      "['.ipynb_checkpoints', 'Coursera_MachineLearningPython_ex2.zip', 'ex2data1.txt', 'ex2data2.txt', 'ex2_part_1.ipynb', 'Ex2_part_2_reg.ipynb', 'Old stuff']\n"
     ]
    }
   ],
   "source": [
    "import math\n",
    "import numpy as np # linear algebra\n",
    "from numpy import loadtxt, where\n",
    "import pandas as pd # data processing, CSV file I/O (e.g. pd.read_csv)\n",
    "import matplotlib.pyplot as plt # data plotting\n",
    "import numpy.matlib\n",
    "from scipy.stats import logistic # sigmoid function\n",
    "import scipy.optimize as opt\n",
    "from sklearn.preprocessing import PolynomialFeatures # import function to add polynomial features\n",
    "\n",
    "import os\n",
    "print(os.listdir(\"../ex2\"))"
   ]
  },
  {
   "cell_type": "markdown",
   "metadata": {},
   "source": [
    "## Instructions\n",
    "\n",
    "This file  contains code that helps you get started on the exercise. You will need to complete functions in this exericse. The instructions can be found in this notebook, which will load the program as you complete the exercises. If you need to change the code in a certain section, it will be clearly indicated."
   ]
  },
  {
   "cell_type": "code",
   "execution_count": 2,
   "metadata": {},
   "outputs": [],
   "source": [
    "# Loading data\n",
    "data = np.array(pd.read_csv('ex2data2.txt', sep=\",\", header=None)) # import data\n",
    "X = data[:,0:2].reshape((118,2))   # initialize data X in 118x2 array\n",
    "y = data[:,2].reshape((118,1))     # initialize data y in 118x1 array"
   ]
  },
  {
   "cell_type": "markdown",
   "metadata": {},
   "source": [
    "### Copy your plotData section here, but change plt.xlabel('Exam 1 score') to plt.xlabel('Microchip Test 1') and change plt.ylabel('Profit in 10,000s') to plt.ylabel('Microchip Test 2'). Also add plt.legend(['y=1'], ['y=2'])"
   ]
  },
  {
   "cell_type": "code",
   "execution_count": 3,
   "metadata": {},
   "outputs": [],
   "source": [
    "# Predefined function because python does not have a find() that Matlab has\n",
    "def indices(a, func):\n",
    "    return [i for (i, val) in enumerate(a) if func(val)]\n",
    "\n",
    "def plotData(x,y):                               # define function to reference later\n",
    "    ## Your code\n",
    "\n",
    "    # Correct answer:\n",
    "    pos = indices(y, lambda y: y > 0)  # filter the positive results (y = 1)\n",
    "    neg = indices(y, lambda y: y == 0) # filter the negative results (y = 0)\n",
    "\n",
    "    plt.scatter(X[pos,0], X[pos,1], color = 'k', marker = '+') # set plotting parameters (colour=red, marker=cross)\n",
    "    plt.scatter(X[neg,0], X[neg,1], color = 'y', marker = 'o') # set plotting parameters (colour=red, marker=cross)\n",
    "    plt.xlabel('Microchip Test 1')  # set the x-axis label\n",
    "    plt.ylabel('Microchip Test 2')             # set the y-axis label\n",
    "    plt.legend(['y=1', 'y=0'])\n",
    "    plt.show()                                   # plot the data"
   ]
  },
  {
   "cell_type": "code",
   "execution_count": 4,
   "metadata": {},
   "outputs": [
    {
     "data": {
      "image/png": "[encoded data removed]",
      "text/plain": [
       "<Figure size 432x288 with 1 Axes>"
      ]
     },
     "metadata": {},
     "output_type": "display_data"
    }
   ],
   "source": [
    "# Plotting data\n",
    "plotData(X,y)"
   ]
  },
  {
   "cell_type": "markdown",
   "metadata": {},
   "source": [
    "### Feature mapping\n",
    "This function maps the two input features to quadratic features used in the regularization exercise. It returns a new feature array with more features, comprising of $X1 = X[:,0]; X2 = X[:,1]$\n",
    "$X1, X2, X1.^2, X2.^2, X1*X2, X1*X2.^2$, etc.. depending on the number of degrees."
   ]
  },
  {
   "cell_type": "code",
   "execution_count": 5,
   "metadata": {},
   "outputs": [],
   "source": [
    "def mapFeature(X):\n",
    "    degree = 6 # number of polynomial degrees\n",
    "    poly = PolynomialFeatures(degree)\n",
    "    X = poly.fit_transform(X)\n",
    "    \n",
    "    return X"
   ]
  },
  {
   "cell_type": "markdown",
   "metadata": {},
   "source": [
    "### Complete this costFunctionReg file:\n",
    "Compute cost computes and gradient for logistic regression.\n",
    "\n",
    "Instructions: Compute the cost of a particular choice of theta. Compute the partial derivatives to calculate grad, which should have the same dimensions as theta."
   ]
  },
  {
   "cell_type": "code",
   "execution_count": 6,
   "metadata": {},
   "outputs": [],
   "source": [
    "# Initialize some useful values\n",
    "m = len(y) # number of training examples\n",
    "\n",
    "def costFunctionReg(theta, X, y, lambda_var):        # define function to reference later\n",
    "    grad = np.zeros((theta.shape)) # initiate grad as an array\n",
    "    reg = 0 # initiate reg value\n",
    "    ## Your code\n",
    "    \n",
    "    # correct answer\n",
    "    z = np.dot(X,theta) # X * theta\n",
    "    h = logistic.cdf(z) # sigmoid(X*theta)\n",
    "    \n",
    "    n = X.shape[1] # define how many thetas need to be regularized\n",
    "    \n",
    "    for j in range(1,n): # calculate the regularization value\n",
    "        reg = reg + lambda_var/(2*m)*theta[j]**2 # regularization piece of \n",
    "                                                # function\n",
    "        \n",
    "    J = 1/m * (np.dot((-y).conj().T, np.log(h))-np.dot((1-y).conj().T,np.log(1-h))) + reg\n",
    "    # 1/m * (-y'*log(h)-(1-y)'*log(1-h)) + regularization\n",
    "    \n",
    "    gr = np.zeros((n,1)) # initiate the gradient regularization part\n",
    "    \n",
    "    for j in range(1,n):\n",
    "        gr[j] = lambda_var/m*theta[j]\n",
    "    \n",
    "    grad = 1/m * np.dot(X.T,(h-y)) + gr # 1/m * X' * (h-y) + gr'\n",
    "    return J, grad"
   ]
  },
  {
   "cell_type": "markdown",
   "metadata": {},
   "source": [
    "## Part 1: Regularized Logistic Regression\n",
    "\n",
    "In this part, you are given a dataset with data points that are not linearly separable. However, you would still like to use logistic regression to classify the data points.\n",
    "\n",
    "To do so, you introduce more features to use -- in particular, you add polynomial features to our data matrix (similar to polynomial regression)."
   ]
  },
  {
   "cell_type": "code",
   "execution_count": 7,
   "metadata": {},
   "outputs": [
    {
     "name": "stdout",
     "output_type": "stream",
     "text": [
      "Cost at initial theta (zeros): 0.693147 \n",
      "\n",
      "Expected cost (approx): 0.693\n",
      "\n",
      "Gradient at initial theta (zeros) - first five values only:\n",
      "\n",
      " 0.008475 \n",
      " 0.018788 \n",
      " 0.000078 \n",
      " 0.050345 \n",
      " 0.011501 \n",
      " \n",
      "Expected gradients (approx) - first five values only:\n",
      "\n",
      " 0.0085\n",
      " 0.0188\n",
      " 0.0001\n",
      " 0.0503\n",
      " 0.0115\n",
      "\n",
      "\n",
      "Cost at test theta (with lambda = 10): 3.164509 \n",
      "\n",
      "Expected cost (approx): 3.16\n",
      "\n",
      "Gradient at test theta - first five values only:\n",
      "\n",
      " 0.346045 \n",
      " 0.161352 \n",
      " 0.194796 \n",
      " 0.226863 \n",
      " 0.092186 \n",
      " \n",
      "Expected gradients (approx) - first five values only:\n",
      "\n",
      " 0.3460\n",
      " 0.1614\n",
      " 0.1948\n",
      " 0.2269\n",
      " 0.0922\n",
      "\n"
     ]
    }
   ],
   "source": [
    "# Note that mapFeature also adds a column of ones for us, so the intercept\n",
    "# term is handled\n",
    "X = mapFeature(X) # Call the mapFeature function to return a 118x28 matrix of\n",
    "                    # features in X and added polynomial features\n",
    "\n",
    "# Initialize fitting parameters\n",
    "initial_theta = np.zeros((X.shape[1], 1)) # initialize theta as zeros as 28x1\n",
    "\n",
    "# Set regularization parameter lambda to 1, lambda_var is used for notation as\n",
    "# lambda has a defined meaning in python\n",
    "lambda_var = 0 # meaning no regularization when this value is used\n",
    "\n",
    "# Compute and display initial cost and gradient for regularized logistic\n",
    "# regression\n",
    "cost, grad = costFunctionReg(initial_theta, X, y, lambda_var)\n",
    "grad = grad.flatten(order='F') # flatten in column major\n",
    "\n",
    "print('Cost at initial theta (zeros): %f \\n' % cost)\n",
    "print('Expected cost (approx): 0.693\\n')\n",
    "print('Gradient at initial theta (zeros) - first five values only:\\n')\n",
    "print(' %f \\n %f \\n %f \\n %f \\n %f \\n ' % (grad[0], grad[1], grad[2], grad[3], grad[4]))    # Maybe needs to be changed to grad[0], grad[1]..    \n",
    "print('Expected gradients (approx) - first five values only:\\n')\n",
    "print(' 0.0085\\n 0.0188\\n 0.0001\\n 0.0503\\n 0.0115\\n')\n",
    "\n",
    "# Compute and display cost and gradient\n",
    "# with all-ones theta and lambda = 10\n",
    "test_theta = np.ones((X.shape[1],1)) # initialize theta as zeros as 28x1\n",
    "cost, grad = costFunctionReg(test_theta, X, y, 10) # call the cost function\n",
    "grad = grad.flatten(order='F') # flatten in column major\n",
    "\n",
    "print('\\nCost at test theta (with lambda = 10): %f \\n' % cost)\n",
    "print('Expected cost (approx): 3.16\\n')\n",
    "print('Gradient at test theta - first five values only:\\n')\n",
    "print(' %f \\n %f \\n %f \\n %f \\n %f \\n ' % (grad[0], grad[1], grad[2], grad[3], grad[4]))    # Maybe needs to be changed to grad[0], grad[1]..    \n",
    "print('Expected gradients (approx) - first five values only:\\n')\n",
    "print(' 0.3460\\n 0.1614\\n 0.1948\\n 0.2269\\n 0.0922\\n')\n"
   ]
  },
  {
   "cell_type": "markdown",
   "metadata": {},
   "source": [
    "### plotDecisionBoundary DOES NOT WORK (Probably just delete it, I included it here if you want to try it yourself)"
   ]
  },
  {
   "cell_type": "code",
   "execution_count": 8,
   "metadata": {},
   "outputs": [],
   "source": [
    "#from sklearn.neighbors.classification import KNeighborsClassifier\n",
    "#from sklearn.datasets.base import load_iris\n",
    "#from sklearn.manifold.t_sne import TSNE\n",
    "#from sklearn.linear_model.logistic import LogisticRegression\n",
    "\n",
    "#pos = indices(y, lambda y: y > 0)  # filter the positive results (y = 1)\n",
    "#neg = indices(y, lambda y: y == 0) # filter the negative results (y = 0)\n",
    "\n",
    "#plt.scatter((data[:,0:2])[pos,0], (data[:,0:2])[pos,1], label='Admitted', \n",
    "#            color = 'k', marker = '+') # set plotting parameters \n",
    "#plt.scatter((data[:,0:2])[neg,0], (data[:,0:2])[neg,1], label='Not admitted',\n",
    "#            color = 'y', marker = 'o')  # set plotting parameters (colour=red, \n",
    "                                        # marker=cross)\n",
    "\n",
    "#resolution = 100 # 100x100 background pixels\n",
    "#X2d_xmin, X2d_xmax  = [min(X[:,1]), max(X[:,1])] # determine x-coordinates of boundary\n",
    "\n",
    "#X2d_ymin, X2d_ymax  = [min(y), max(y)] # determine y-coordinates\n",
    "                                                    # of boundary\n",
    "#xx, yy = np.meshgrid(np.linspace(X2d_xmin, X2d_xmax, resolution), np.linspace(X2d_ymin, X2d_ymax, resolution))\n",
    "\n",
    "#background_model = KNeighborsClassifier(n_neighbors=1).fit(X, p) \n",
    "#voronoiBackground = background_model.predict(np.c_[xx.ravel(), yy.ravel()])\n",
    "#voronoiBackground = voronoiBackground.reshape((resolution, resolution))\n",
    "\n",
    "#plot\n",
    "#plt.contourf(xx, yy, voronoiBackground)\n",
    "\n",
    "#plt.xlabel('Microchip Test 1')  # set the x-axis label\n",
    "#plt.ylabel('Microchip Test 2')             # set the y-axis label\n",
    "#plt.legend(['y=1', 'y=0'])\n",
    "#plt.show()                                   # plot the data"
   ]
  },
  {
   "cell_type": "markdown",
   "metadata": {},
   "source": [
    "# Part 2: Regularization and Accuracies"
   ]
  },
  {
   "cell_type": "markdown",
   "metadata": {},
   "source": [
    "### Optional Exercise:\n",
    "In this part, you will get to try different values of lambda and see how regularization affects the decision boundary.\n",
    "\n",
    "Try the following values of lambda (0, 1, 10, 100).\n",
    "\n",
    "How does the decision boundary change when you vary lambda? How does the training set accuracy vary?"
   ]
  },
  {
   "cell_type": "code",
   "execution_count": 9,
   "metadata": {},
   "outputs": [],
   "source": [
    "# Initialize fitting parameters\n",
    "initial_theta = np.zeros((X.shape[1], 1)) # initialize theta as zeros\n",
    "\n",
    "# Set regularization parameter lambda to 1 (you should vary this)\n",
    "lambda_var = 1\n",
    "\n",
    "# These functions are created so the opt.fmin_tnc can be ran\n",
    "# Optimise\n",
    "def costReg(theta, X, y, lambda_var):\n",
    "    theta = np.matrix(theta) # transform all the arrays to matrices for compatibility\n",
    "    if theta.shape[0] < theta.shape[1]:\n",
    "        theta = theta.T\n",
    "    X = np.matrix(X)\n",
    "    y = np.matrix(y)\n",
    "    grad = np.zeros((theta.shape))\n",
    "    reg = 0\n",
    "    ## Your code\n",
    "    \n",
    "    # correct answer\n",
    "    z = np.dot(X,theta) # X * theta\n",
    "    h = logistic.cdf(z) # sigmoid(X*theta)\n",
    "    \n",
    "    n = X.shape[1] # define how many thetas need to be regularized\n",
    "    \n",
    "    for j in range(1,n): # calculate the regularization value\n",
    "        reg = reg + lambda_var/(2*m)*theta[j]**2\n",
    "    \n",
    "    J = 1/m * (np.dot((-y).conj().T, np.log(h))-np.dot((1-y).conj().T,np.log(1-h))) + reg\n",
    "    # 1/m * (-y'*log(h)-(1-y)'*log(1-h)) + regularization\n",
    "    return J\n",
    "\n",
    "def gradientReg(theta, X, y, lambda_var):\n",
    "    theta = np.matrix(theta) # transform all arrays to matrices for compatibility\n",
    "    X = np.matrix(X)\n",
    "    y = np.matrix(y)\n",
    "        \n",
    "    if theta.shape[0] < theta.shape[1]:\n",
    "        theta = theta.T\n",
    "    n = X.shape[1] # define how many thetas need to be regularized\n",
    "    z = np.dot(X,theta) # X * theta\n",
    "    h = logistic.cdf(z) # sigmoid(X*theta)\n",
    "    \n",
    "    gr = np.zeros((n,1))\n",
    "    gr[0] = 0\n",
    "    \n",
    "    for j in range(1,n):\n",
    "        gr[j] = lambda_var/m*theta[j]\n",
    "    \n",
    "    grad = 1/m * np.dot(X.T,(h-y)) + gr # 1/m * X' * (h-y) + gr'\n",
    "    return grad\n",
    "    \n",
    "result2 = opt.fmin_tnc(func=costReg, x0=initial_theta, fprime=gradientReg, args=(X, y,lambda_var)) # function to optimise\n",
    "\n",
    "theta = np.array((result2[0])) # put the updated optimised thetas in theta\n",
    "theta = theta.reshape(len(theta),1) # make sure theta is a 28x1 array"
   ]
  },
  {
   "cell_type": "markdown",
   "metadata": {},
   "source": [
    "### Copy your predict file from the previous notebook"
   ]
  },
  {
   "cell_type": "code",
   "execution_count": 10,
   "metadata": {},
   "outputs": [],
   "source": [
    "# Initialize some useful values\n",
    "m = len(y) # number of training examples\n",
    "\n",
    "p = np.zeros((m,1)) # initialize the p array with zeros\n",
    "\n",
    "def predict(theta, X):        # define function to reference later\n",
    "    ## Your code\n",
    "    \n",
    "    # correct answer\n",
    "    z = np.dot(X,theta) # X*theta\n",
    "    h = logistic.cdf(z) # sigmoid(z)\n",
    "    \n",
    "    for i in range(m):\n",
    "        if h[i] >= 0.5: # threshold is set at 0.5\n",
    "            p[i] = 1 # only positive predictions are changed to 1\n",
    "    \n",
    "    return p"
   ]
  },
  {
   "cell_type": "markdown",
   "metadata": {},
   "source": [
    "#### Compute accuracy on our training set"
   ]
  },
  {
   "cell_type": "code",
   "execution_count": 11,
   "metadata": {},
   "outputs": [
    {
     "name": "stdout",
     "output_type": "stream",
     "text": [
      "Train Accuracy: 83.050847 %\n"
     ]
    }
   ],
   "source": [
    "p = predict(theta,X)\n",
    "\n",
    "def accuracy_score_new(y_pred, y_true):\n",
    "    matched = 0 # initialize number of correct answers\n",
    "    for y_p, y_t in zip(y_pred, y_true): # loop over all predicted and real values\n",
    "        if y_t in y_p:\n",
    "            matched = matched + 1 # add 1 to for each correctly predicted answer\n",
    "\n",
    "    return (matched / len(y_true)) * 100 # returns the number of correct answers divided \n",
    "                                            # by number of total predictions * 100\n",
    "\n",
    "accuracy = accuracy_score_new(p,y)\n",
    "\n",
    "# of right predictions/accuracy\n",
    "print('Train Accuracy: %f' % accuracy, '%')"
   ]
  }
 ],
 "metadata": {
  "kernelspec": {
   "display_name": "Python 3",
   "language": "python",
   "name": "python3"
  },
  "language_info": {
   "codemirror_mode": {
    "name": "ipython",
    "version": 3
   },
   "file_extension": ".py",
   "mimetype": "text/x-python",
   "name": "python",
   "nbconvert_exporter": "python",
   "pygments_lexer": "ipython3",
   "version": "3.6.4"
  }
 },
 "nbformat": 4,
 "nbformat_minor": 2
}
