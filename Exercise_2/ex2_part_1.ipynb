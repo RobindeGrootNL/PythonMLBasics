{
 "cells": [
  {
   "cell_type": "markdown",
   "metadata": {},
   "source": [
    "# Machine Learning Python Exercise 2.1: Logistic Regression"
   ]
  },
  {
   "cell_type": "code",
   "execution_count": 1,
   "metadata": {},
   "outputs": [
    {
     "name": "stdout",
     "output_type": "stream",
     "text": [
      "['.ipynb_checkpoints', 'Coursera_MachineLearningPython_ex2.zip', 'ex2data1.txt', 'ex2data2.txt', 'ex2_part_1.ipynb', 'Ex2_part_2_reg.ipynb', 'Old stuff']\n"
     ]
    }
   ],
   "source": [
    "import math\n",
    "import numpy as np # linear algebra\n",
    "from numpy import loadtxt, where\n",
    "import pandas as pd # data processing, CSV file I/O (e.g. pd.read_csv)\n",
    "import matplotlib.pyplot as plt # data plotting\n",
    "import numpy.matlib\n",
    "from scipy.stats import logistic # sigmoid function\n",
    "import scipy.optimize as opt  \n",
    "\n",
    "import os\n",
    "print(os.listdir(\"../ex2\"))"
   ]
  },
  {
   "cell_type": "markdown",
   "metadata": {},
   "source": [
    "## Instructions\n",
    "\n",
    "This file  contains code that helps you get started on the exercise. You will need to complete functions in this exercise. The instructions can be found in this notebook, which will load the program as you complete the exercises. If you need to change the code in a certain section, it will be clearly indicated."
   ]
  },
  {
   "cell_type": "code",
   "execution_count": 2,
   "metadata": {},
   "outputs": [],
   "source": [
    "# Loading data\n",
    "data = np.array(pd.read_csv('ex2data1.txt', sep=\",\", header=None)) # import data\n",
    "X = data[:,0:2].reshape((100,2))   # initialize data X in 100x2 array\n",
    "y = data[:,2].reshape((100,1))     # initialize data y in 100x1 array"
   ]
  },
  {
   "cell_type": "markdown",
   "metadata": {},
   "source": [
    "### Complete this plotData file:\n",
    "plotData plots the data points X and y into a new figure and gives the figure axis label population and profit\n",
    "\n",
    "Instructions: Plot the training data into a figure. Set the axes labels using ax.set_xlabel and ax.set_ylabel. Positive examples are plotted with a '+' and negative examples are plotted with 'o'. X is assumed to be a $m x 2$ matrix"
   ]
  },
  {
   "cell_type": "code",
   "execution_count": 3,
   "metadata": {},
   "outputs": [],
   "source": [
    "# Predefined function because python does not have a find() that Matlab has\n",
    "def indices(a, func):\n",
    "    return [i for (i, val) in enumerate(a) if func(val)]\n",
    "\n",
    "def plotData(x,y):  # define function to reference later\n",
    "    ## Your code\n",
    "\n",
    "    # Correct answer:\n",
    "    pos = indices(y, lambda y: y > 0)  # filter the positive results (y = 1)\n",
    "    neg = indices(y, lambda y: y == 0) # filter the negative results (y = 0)\n",
    "\n",
    "    plt.scatter(X[pos,0], X[pos,1], color = 'k', marker = '+') # set plotting parameters (colour=red, marker=cross)\n",
    "    plt.scatter(X[neg,0], X[neg,1], color = 'y', marker = 'o') # set plotting parameters (colour=red, marker=cross)\n",
    "    plt.xlabel('Exam 1 score')  # set the x-axis label\n",
    "    plt.ylabel('Profit in $10,000s')             # set the y-axis label\n",
    "    plt.legend(['Admitted', 'Not admitted'])     # define the legend\n",
    "    plt.show()                                   # plot the data"
   ]
  },
  {
   "cell_type": "markdown",
   "metadata": {},
   "source": [
    "## Part 1: Plotting"
   ]
  },
  {
   "cell_type": "code",
   "execution_count": 4,
   "metadata": {},
   "outputs": [
    {
     "name": "stdout",
     "output_type": "stream",
     "text": [
      "Plotting data with + indicating (y = 1) examples and o indicating (y = 0) examples.\n",
      "\n"
     ]
    },
    {
     "data": {
      "image/png": "[encoded data removed]",
      "text/plain": [
       "<Figure size 432x288 with 1 Axes>"
      ]
     },
     "metadata": {},
     "output_type": "display_data"
    }
   ],
   "source": [
    "print('Plotting data with + indicating (y = 1) examples and o ' \n",
    "         'indicating (y = 0) examples.\\n')\n",
    "\n",
    "plotData(X, y) # Plot the data using the previously define plotData function"
   ]
  },
  {
   "cell_type": "markdown",
   "metadata": {},
   "source": [
    "## Part 2: Compute Cost and Gradient"
   ]
  },
  {
   "cell_type": "code",
   "execution_count": 5,
   "metadata": {},
   "outputs": [],
   "source": [
    "m, n = X.shape           # initialize m and n\n",
    "\n",
    "ones = np.ones((len(X))) # initialize array with ones size 91x1\n",
    "X = np.c_[ones,X]        # add a column of ones to x\n",
    "\n",
    "initial_theta = np.zeros((n+1,1))  # initialize fitting parameters"
   ]
  },
  {
   "cell_type": "markdown",
   "metadata": {},
   "source": [
    "### Complete this costFunction file\n",
    "Compute cost computes and gradient for logistic regression.\n",
    "\n",
    "Instructions: Compute the cost of a particular choice of theta. Compute the partial derivatives to calculate grad, which should have the same dimensions as theta."
   ]
  },
  {
   "cell_type": "code",
   "execution_count": 6,
   "metadata": {},
   "outputs": [],
   "source": [
    "# Initialize some useful values\n",
    "m = len(y) # number of training examples\n",
    "\n",
    "grad = np.zeros((initial_theta.shape))\n",
    "\n",
    "def costFunction(theta, X, y):        # define function to reference later\n",
    "    ## Your code\n",
    "    \n",
    "    # correct answer\n",
    "    z = np.dot(X,theta) # X * theta\n",
    "    h = logistic.cdf(z) # sigmoid(X*theta)\n",
    "    \n",
    "    J = 1/m * (np.dot((-y).conj().T, np.log(h))-np.dot((1-y).conj().T,np.log(1-h)))\n",
    "    # 1/m * (-y'*log(h)-(1-y)'*log(1-h))\n",
    "    \n",
    "    grad = 1/m * np.dot(X.conj().T,(h-y)) # 1/m * X' * (h-y)\n",
    "    return J, grad"
   ]
  },
  {
   "cell_type": "code",
   "execution_count": 7,
   "metadata": {},
   "outputs": [
    {
     "name": "stdout",
     "output_type": "stream",
     "text": [
      "Cost at initial theta (zeros): 0.693147 \n",
      "\n",
      "Expected cost (approx): 0.693\n",
      "\n",
      "Gradient at initial theta (zeros): \n",
      "\n",
      " -0.100000 \n",
      " -12.009217 \n",
      " -11.262842 \n",
      "\n",
      "Expected gradients (approx):\n",
      " -0.1000\n",
      " -12.0092\n",
      " -11.2628\n",
      "\n"
     ]
    }
   ],
   "source": [
    "cost, grad = costFunction(initial_theta, X, y) # saving J and grad in cost and grad respectively\n",
    "\n",
    "print('Cost at initial theta (zeros): %f \\n' % cost)\n",
    "print('Expected cost (approx): 0.693\\n')\n",
    "print('Gradient at initial theta (zeros): \\n')\n",
    "print(' %f \\n %f \\n %f \\n' % (grad[0], grad[1], grad[2]))\n",
    "print('Expected gradients (approx):\\n -0.1000\\n -12.0092\\n -11.2628\\n')\n"
   ]
  },
  {
   "cell_type": "markdown",
   "metadata": {},
   "source": [
    "## Part 3: Optimizing using fminunc's python counterpart: fmin_tnc"
   ]
  },
  {
   "cell_type": "code",
   "execution_count": 8,
   "metadata": {},
   "outputs": [
    {
     "name": "stdout",
     "output_type": "stream",
     "text": [
      "Cost at theta found by fminunc: 0.203498 \n",
      "\n",
      "Expected cost (approx): 0.203\n",
      "\n",
      "theta: \n",
      "\n",
      " -25.161319 \n",
      " 0.206232 \n",
      " 0.201471 \n",
      "\n",
      "Expected theta (approx):\n",
      "\n",
      " -25.161\n",
      " 0.206\n",
      " 0.201\n",
      "\n"
     ]
    }
   ],
   "source": [
    "def cost(theta, X, y):\n",
    "    theta = np.matrix(theta) # transform all the arrays to matrices for compatibility\n",
    "    X = np.matrix(X)\n",
    "    y = np.matrix(y)\n",
    "    first = np.multiply(-y, np.log(logistic.cdf(X * theta.T)))\n",
    "    second = np.multiply((1 - y), np.log(1 - logistic.cdf(X * theta.T)))\n",
    "    return np.sum(first - second) / (len(X))\n",
    "\n",
    "def gradient(theta, X, y):  \n",
    "    theta = np.matrix(theta) # transform all arrays to matrices for compatibility\n",
    "    X = np.matrix(X)\n",
    "    y = np.matrix(y)\n",
    "\n",
    "    parameters = int(len(theta)*3) # setting the number of parameters\n",
    "    grad = np.zeros(parameters) # initializing grad\n",
    "\n",
    "    error = logistic.cdf(X * theta.T) - y # calculating the loss of one example\n",
    "\n",
    "    for i in range(parameters): \n",
    "        term = np.multiply(error, X[:,i]) # X' * (h-y)\n",
    "        grad[i] = np.sum(term) / len(X)\n",
    "\n",
    "    return grad\n",
    "    \n",
    "result = opt.fmin_tnc(func=cost, x0=initial_theta,\n",
    "                           fprime=gradient, args=(X, y)) # function to optimise\n",
    "# for theta\n",
    "theta = result[0] # put the optimised theta values in variable theta\n",
    "cost = cost(result[0], X, y) # calculate the cost with the optimised thetas\n",
    "\n",
    "print('Cost at theta found by fminunc: %f \\n' % cost)\n",
    "print('Expected cost (approx): 0.203\\n')\n",
    "print('theta: \\n')\n",
    "print(' %f \\n %f \\n %f \\n' % (theta[0], theta[1], theta[2]))\n",
    "print('Expected theta (approx):\\n')\n",
    "print(' -25.161\\n 0.206\\n 0.201\\n')"
   ]
  },
  {
   "cell_type": "markdown",
   "metadata": {},
   "source": [
    "### Plot decision boundary\n",
    "X in the scatter plot is replaced with data[:, 0:2] because X is changed in this notebook and would not yield the same scatter plot anymore."
   ]
  },
  {
   "cell_type": "code",
   "execution_count": 9,
   "metadata": {},
   "outputs": [
    {
     "data": {
      "image/png": "[encoded data removed]",
      "text/plain": [
       "<Figure size 432x288 with 1 Axes>"
      ]
     },
     "metadata": {},
     "output_type": "display_data"
    }
   ],
   "source": [
    "pos = indices(y, lambda y: y > 0)  # filter the positive results (y = 1)\n",
    "neg = indices(y, lambda y: y == 0) # filter the negative results (y = 0)\n",
    "plt.scatter((data[:,0:2])[pos,0], (data[:,0:2])[pos,1], label='Admitted', \n",
    "            color = 'k', marker = '+') # set plotting parameters \n",
    "plt.scatter((data[:,0:2])[neg,0], (data[:,0:2])[neg,1], label='Not admitted',\n",
    "            color = 'y', marker = 'o')  # set plotting parameters (colour=red, \n",
    "                                        # marker=cross)\n",
    "plot_x = [min(X[:,1])-2,  max(X[:,1])+2] # determine x-coordinates of boundary\n",
    "\n",
    "plot_y = (-1/theta[2])*(np.multiply(theta[1],plot_x) + theta[0]) # determine y-coordinates\n",
    "                                                    # of boundary\n",
    "\n",
    "\n",
    "#plt.plot(X[:,1], np.dot(X,initial_theta), '-')       # plot regression line\n",
    "plt.plot(plot_x, plot_y, '-')\n",
    "plt.xlabel('Exam 1 score')  # set the x-axis label\n",
    "plt.ylabel('Exam 2 score')  # set the y-axis label\n",
    "plt.legend()                # set the legend with the previously defined \n",
    "                            # labels\n",
    "plt.show()                  # plot the data"
   ]
  },
  {
   "cell_type": "markdown",
   "metadata": {},
   "source": [
    "### Complete this predict file:\n",
    "Predict whether the label is 0 or 1 using learned logistic regression parameters theta.\n",
    "\n",
    "Instructions: Compute the cost of a particular choice of theta. Compute the partial derivatives to calculate grad, which should have the same dimensions as theta."
   ]
  },
  {
   "cell_type": "code",
   "execution_count": 10,
   "metadata": {},
   "outputs": [],
   "source": [
    "# Initialize some useful values\n",
    "m = len(y) # number of training examples\n",
    "\n",
    "p = np.zeros((m,1)) # initialize the p array with zeros\n",
    "\n",
    "def predict(theta, X):        # define function to reference later\n",
    "    ## Your code\n",
    "    \n",
    "    # correct answer\n",
    "    z = np.dot(X,theta) # X*theta\n",
    "    h = logistic.cdf(z) # sigmoid(z)\n",
    "    \n",
    "    for i in range(m):\n",
    "        if h[i] >= 0.5: # threshold is set at 0.5\n",
    "            p[i] = 1 # only positive predictions are changed to 1\n",
    "    \n",
    "    return p"
   ]
  },
  {
   "cell_type": "markdown",
   "metadata": {},
   "source": [
    "## Part 4: Predict and Accuracies"
   ]
  },
  {
   "cell_type": "markdown",
   "metadata": {},
   "source": [
    "After learning the parameters, you'll like to use it to predict the outcomes on unseen data. In this part, you will use the logistic regression model to predict the probability that a student with score 45 on exam 1 and score 85 on exam 2 will be admitted.\n",
    "\n",
    "Use the code in the previous section to predict the probability this student will be admitted."
   ]
  },
  {
   "cell_type": "code",
   "execution_count": 11,
   "metadata": {},
   "outputs": [
    {
     "name": "stdout",
     "output_type": "stream",
     "text": [
      "For a student with scores 45 and 85, we predict an admission probability of 0.776291 \n",
      "\n",
      "Expected value: 0.775 +/- 0.002\n",
      "\n",
      "\n",
      "Train Accuracy: 89.000000 \n",
      "\n",
      "Expected accuracy (approx): 89.0\n",
      "\n",
      "\n",
      "\n"
     ]
    }
   ],
   "source": [
    "prob = logistic.cdf(np.dot([1, 45, 85], theta)) # sigmoid(X*theta)\n",
    "\n",
    "print('For a student with scores 45 and 85, we predict an admission '\n",
    "         'probability of %f \\n' % prob)\n",
    "print('Expected value: 0.775 +/- 0.002\\n\\n')\n",
    "\n",
    "# Compute accuracy on our training set\n",
    "p = predict(theta, X)\n",
    "\n",
    "correct = [1 if ((a == 1 and b == 1) or (a == 0 and b == 0)) \n",
    "           else 0 for (a, b) in zip(p, y)] # find the correct instances where\n",
    "# y and p have the same value\n",
    "\n",
    "accuracy = (sum(map(int, correct)) % len(correct)) # calculate the percentage\n",
    "# of right predictions/accuracy\n",
    "\n",
    "print('Train Accuracy: %f \\n' % accuracy)\n",
    "print('Expected accuracy (approx): 89.0\\n')\n",
    "print('\\n')"
   ]
  }
 ],
 "metadata": {
  "kernelspec": {
   "display_name": "Python 3",
   "language": "python",
   "name": "python3"
  },
  "language_info": {
   "codemirror_mode": {
    "name": "ipython",
    "version": 3
   },
   "file_extension": ".py",
   "mimetype": "text/x-python",
   "name": "python",
   "nbconvert_exporter": "python",
   "pygments_lexer": "ipython3",
   "version": "3.6.4"
  }
 },
 "nbformat": 4,
 "nbformat_minor": 2
}
