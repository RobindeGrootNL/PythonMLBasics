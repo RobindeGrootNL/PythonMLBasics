{
 "cells": [
  {
   "cell_type": "markdown",
   "metadata": {},
   "source": [
    "# Machine Learning Python Exercise 3.2: Neural Networks"
   ]
  },
  {
   "cell_type": "code",
   "execution_count": 1,
   "metadata": {},
   "outputs": [
    {
     "name": "stdout",
     "output_type": "stream",
     "text": [
      "['.ipynb_checkpoints', 'ex3data1.csv', 'ex3data1.mat', 'ex3data1.txt', 'ex3Theta1weights.csv', 'ex3Theta2weights.csv', 'ex3weights.mat', 'ex3weights.txt', 'Ex3_part_1.ipynb', 'Ex3_part_2.ipynb']\n"
     ]
    }
   ],
   "source": [
    "import numpy as np # linear algebra\n",
    "from numpy import loadtxt, where\n",
    "import pandas as pd # data processing, CSV file I/O (e.g. pd.read_csv)\n",
    "import matplotlib.pyplot as plt # data plotting\n",
    "import numpy.matlib\n",
    "from scipy.stats import logistic # sigmoid function\n",
    "import scipy.optimize as opt\n",
    "import scipy.io\n",
    "\n",
    "import os\n",
    "print(os.listdir(\"../ex3\"))"
   ]
  },
  {
   "cell_type": "markdown",
   "metadata": {},
   "source": [
    "## Instructions\n",
    "\n",
    "This file  contains code that helps you get started on the exercise. You will need to complete functions in this exercise. The instructions can be found in this notebook, which will load the  program as you complete the exercises. If you need to change the code in a certain section, it will be clearly indicated."
   ]
  },
  {
   "cell_type": "code",
   "execution_count": 2,
   "metadata": {},
   "outputs": [],
   "source": [
    "# Setup the parameters you will use for this part of the exercise\n",
    "input_layer_size = 400  # 20x20 Input Images of Digits\n",
    "hidden_layer_size = 25  # 25 hidden units\n",
    "num_labels = 10         # 10 labels, from 1 to 10\n",
    "                        # (note that we have mapped \"0\" to label 10)"
   ]
  },
  {
   "cell_type": "markdown",
   "metadata": {},
   "source": [
    "## Part 1: Loading and Visualizing Data\n",
    "We start the exercise by first loading and visualizing the dataset. You will be working with a dataset that contains handwritten digits."
   ]
  },
  {
   "cell_type": "code",
   "execution_count": 3,
   "metadata": {},
   "outputs": [],
   "source": [
    "data = scipy.io.loadmat('ex3data1.mat') # load in the data from the provided .mat file\n",
    "\n",
    "X = data[\"X\"]\n",
    "y = data[\"y\"]\n",
    "m = len(y)\n",
    "\n",
    "theta = scipy.io.loadmat('ex3weights.mat') # load in the weights from the provided .mat file\n",
    "\n",
    "theta1 = theta['Theta1']\n",
    "theta2 = theta['Theta2']"
   ]
  },
  {
   "cell_type": "code",
   "execution_count": 4,
   "metadata": {},
   "outputs": [
    {
     "data": {
      "image/png": "[encoded data removed]",
      "text/plain": [
       "<Figure size 432x288 with 1 Axes>"
      ]
     },
     "metadata": {},
     "output_type": "display_data"
    }
   ],
   "source": [
    "sample = np.random.choice(X.shape[0], 20)\n",
    "plt.imshow(X[sample,1:].reshape(-1,20).T)\n",
    "plt.axis('off');"
   ]
  },
  {
   "cell_type": "markdown",
   "metadata": {},
   "source": [
    "## Part 2: Implement Predict\n",
    "After training the neural network, we would like to use it to predict the labels. You will now implement the \"predict\" function to use the neural network to predict the labels of the training set. This lets you compute the training set accuracy."
   ]
  },
  {
   "cell_type": "markdown",
   "metadata": {},
   "source": [
    "## Complete this predict file\n",
    "Predict the label of an input given a trained neural network p = PREDICT(Theta1, Theta2, X) outputs the predicted label of X given the trained weights of a neural network (Theta1, Theta2)."
   ]
  },
  {
   "cell_type": "markdown",
   "metadata": {},
   "source": [
    "Instructions: Complete the following code to make predictions using\n",
    "              your learned neural network. You should set p to a \n",
    "              vector containing labels between 1 to num_labels."
   ]
  },
  {
   "cell_type": "code",
   "execution_count": 5,
   "metadata": {},
   "outputs": [],
   "source": [
    "def predict(Theta1, Theta2, X):\n",
    "    m = X.shape[0]\n",
    "    num_labels = Theta2.shape[0]\n",
    "    ## Your code\n",
    "    \n",
    "    # correct answer\n",
    "    X = np.column_stack((np.ones((m,1)), X)) # is the same as a1\n",
    "\n",
    "    a2 = logistic.cdf(np.dot(X, Theta1.T) ) # sigmoid(X * theta1')\n",
    "\n",
    "    a2 = np.column_stack((np.ones((a2.shape[0], 1)), a2)) # add row of ones\n",
    "\n",
    "    a3 = logistic.cdf(np.dot(a2, Theta2.T) ) # sigmoid(a2)\n",
    "\n",
    "    pred = np.argmax(a3, axis=1)\n",
    "\n",
    "    return pred + 1 # compensates for python's starting index of 0"
   ]
  },
  {
   "cell_type": "code",
   "execution_count": 6,
   "metadata": {},
   "outputs": [
    {
     "name": "stdout",
     "output_type": "stream",
     "text": [
      "\n",
      "Training Set Accuracy: 10.000000 \n",
      "\n",
      "Train Accuracy: 97.520000 %\n"
     ]
    }
   ],
   "source": [
    "pred = predict(theta1, theta2, X)\n",
    "\n",
    "print('\\nTraining Set Accuracy: %f \\n' % (np.mean(np.double(pred == y)) * 100))\n",
    "\n",
    "pred = pred[:, np.newaxis]\n",
    "\n",
    "def accuracy_score_new(y_pred, y_true):\n",
    "    matched = 0 # initialize number of correct answers\n",
    "    for y_p, y_t in zip(y_pred, y_true): # loop over all predicted and real values\n",
    "        if y_t in y_p:\n",
    "            matched = matched + 1 # add 1 to for each correctly predicted answer\n",
    "\n",
    "    return (matched / len(y_true)) * 100 # returns the number of correct answers divided \n",
    "                                            # by number of total predictions * 100\n",
    "\n",
    "accuracy = accuracy_score_new(pred,y)\n",
    "\n",
    "# of right predictions/accuracy\n",
    "print('Train Accuracy: %f' % accuracy, '%')"
   ]
  }
 ],
 "metadata": {
  "kernelspec": {
   "display_name": "Python 3",
   "language": "python",
   "name": "python3"
  },
  "language_info": {
   "codemirror_mode": {
    "name": "ipython",
    "version": 3
   },
   "file_extension": ".py",
   "mimetype": "text/x-python",
   "name": "python",
   "nbconvert_exporter": "python",
   "pygments_lexer": "ipython3",
   "version": "3.6.4"
  }
 },
 "nbformat": 4,
 "nbformat_minor": 2
}
