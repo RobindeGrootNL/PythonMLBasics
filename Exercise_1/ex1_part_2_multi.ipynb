{
 "cells": [
  {
   "cell_type": "markdown",
   "metadata": {
    "_cell_guid": "b1076dfc-b9ad-4769-8c92-a6c4dae69d19",
    "_uuid": "8f2839f25d086af736a60e9eeb907d3b93b6e0e5"
   },
   "source": [
    "# Machine Learning Python Exercise 1.2: Linear Regression with multiple variables"
   ]
  },
  {
   "cell_type": "code",
   "execution_count": 1,
   "metadata": {},
   "outputs": [
    {
     "name": "stdout",
     "output_type": "stream",
     "text": [
      "['.ipynb_checkpoints', 'Coursera_MachineLearningPython_ex1.zip', 'ex1data1.txt', 'ex1data2.txt', 'ex1_part_1.ipynb', 'ex1_part_2_multi.ipynb', 'ex1_try1.ipynb', 'Machine_Learning_ex1_python_old.zip', 'Untitled.ipynb']\n"
     ]
    }
   ],
   "source": [
    "import numpy as np # linear algebra\n",
    "import pandas as pd # data processing, CSV file I/O (e.g. pd.read_csv)\n",
    "import matplotlib.pyplot as plt # data plotting\n",
    "import numpy.matlib\n",
    "import statistics\n",
    "\n",
    "import os\n",
    "print(os.listdir(\"../ex1\"))"
   ]
  },
  {
   "cell_type": "markdown",
   "metadata": {},
   "source": [
    "## Instructions\n",
    "    \n",
    "This file contains code that helps you get started on the exercise. You will need to complete functions in this exercise. The instructions can be found in this notebook, which will load the program as you complete the exercises. If you need to change the code in a certain section, it will be clearly indicated."
   ]
  },
  {
   "cell_type": "code",
   "execution_count": 2,
   "metadata": {},
   "outputs": [
    {
     "name": "stdout",
     "output_type": "stream",
     "text": [
      "First 10 examples from the dataset: \n",
      "\n",
      " x = [2104 3], y = 399900 \n",
      "\n",
      " x = [1600 3], y = 329900 \n",
      "\n",
      " x = [2400 3], y = 369000 \n",
      "\n",
      " x = [1416 2], y = 232000 \n",
      "\n",
      " x = [3000 4], y = 539900 \n",
      "\n",
      " x = [1985 4], y = 299900 \n",
      "\n",
      " x = [1534 3], y = 314900 \n",
      "\n",
      " x = [1427 3], y = 198999 \n",
      "\n",
      " x = [1380 3], y = 212000 \n",
      "\n",
      " x = [1494 3], y = 242500 \n",
      "\n"
     ]
    }
   ],
   "source": [
    "# Loading data\n",
    "data = np.array(pd.read_csv('ex1data2.txt', sep=\",\", header=None)) # import data\n",
    "X = np.array(data[:,0:2].reshape((47,2)),dtype=float)   # initialize data X in 47x2 array\n",
    "y = np.array(data[:,2].reshape((47,1)),dtype=float)     # initialize data y in 47x1 array\n",
    "m = len(y)                        # initialize value for m\n",
    "\n",
    "print('First 10 examples from the dataset: \\n')\n",
    "for i in range(10): # 10 examples are printed using a loop over the print statement\n",
    "    print(' x = [%g %g], y = %g \\n' % (X[i,0], X[i,1], y[i])) "
   ]
  },
  {
   "cell_type": "markdown",
   "metadata": {},
   "source": [
    "### Complete this featureNormalize file: (@Rik this part still seems bugged but Coursera accepts it as correct)\n",
    "featureNormalize(X) returns a normalized version of X where the mean value of each feature 0 and the standard deviation is 1. This is often a good pre-processing step to do when working with learning algorithms."
   ]
  },
  {
   "cell_type": "code",
   "execution_count": 3,
   "metadata": {},
   "outputs": [],
   "source": [
    "# You need to set these values correctly\n",
    "X_norm = X\n",
    "mu = np.zeros((1, X.shape[1]))\n",
    "sigma = np.zeros((1, X.shape[1]))"
   ]
  },
  {
   "cell_type": "markdown",
   "metadata": {},
   "source": [
    "#### Instructions\n",
    "First, for each feature dimension, compute the mean of the feature and subtract it from the dataset, storing the mean value in mu. Next, compute the standard deviation of each feature and divide each feature by its standard deviation, storing the standard deviation in sigma. \n",
    "\n",
    "Note that X is a matrix where each column is a feature and each row is an example. You need to perform the normalization separately for each feature."
   ]
  },
  {
   "cell_type": "code",
   "execution_count": 4,
   "metadata": {},
   "outputs": [],
   "source": [
    "def featureNormalize(X):\n",
    "    ## Your code\n",
    "    \n",
    "    # Correct answer\n",
    "    # mu and sigma\n",
    "    for p in range(X.shape[1]):\n",
    "        mu[:,p] = np.mean(X[:,p])\n",
    "        sigma[:,p] = np.std(X[:,p])\n",
    "        \n",
    "    # X_norm\n",
    "    for p in range(len(X)):\n",
    "        for i in range(len(X[p])):\n",
    "            X_norm[p,i] = (X_norm[p,i] - mu[:,i])/sigma[:,i] #(X_norm-mean)/std\n",
    "    return X_norm, mu, sigma\n",
    "        \n",
    "    # incorrect try    \n",
    "    #m1 = np.mean((X[:,0])) # mean of first column\n",
    "    #m2 = np.mean((X[:,1])) # mean of second column\n",
    "    #mu = np.stack((m1,m2), axis=0) # horizontally concatenate m1 and m2 in mu\n",
    "    #\n",
    "\n",
    "    #s1 = np.std(X[:,0]) # standard deviation of first colum\n",
    "    #s2 = np.std(X[:,1]) # standard deviation of second colum\n",
    "    #sigma = np.stack((s1,s2), axis=0)     # horizontally concatenate s1 and s2 in sigma\n",
    "\n",
    "    \n",
    "    #for i in range(len(mu)):\n",
    "     #   for j in range(len(X)):\n",
    "      #      X_norm[j,i] = ((X[j,i]-np.mean(X[:,i]))/np.std(X[:,i]))\n",
    "    #return X_norm, mu, sigma"
   ]
  },
  {
   "cell_type": "markdown",
   "metadata": {},
   "source": [
    "## Part 1: Feature Normalization"
   ]
  },
  {
   "cell_type": "code",
   "execution_count": 5,
   "metadata": {},
   "outputs": [],
   "source": [
    "X, mu, sigma = featureNormalize(X) # return values into X, mu, sigma\n",
    "\n",
    "# Add column of ones to X\n",
    "ones = np.ones((len(X))) # initialize array with ones size 91x1\n",
    "X = np.c_[ones,X]        # add a column of ones to x\n",
    "theta = np.zeros((2,1))  # initialize fitting parameters"
   ]
  },
  {
   "cell_type": "markdown",
   "metadata": {},
   "source": [
    "### Paste you computeCost function here"
   ]
  },
  {
   "cell_type": "code",
   "execution_count": 6,
   "metadata": {},
   "outputs": [],
   "source": [
    "# Initialize some useful values\n",
    "m = len(y) # number of training examples\n",
    "\n",
    "# Instructions: Compute the cost of a particular choice of theta using computeCost(X, y, theta).\n",
    "\n",
    "def computeCost(x,y,theta):                                 # define function to reference later\n",
    "    ## Your code\n",
    "    \n",
    "    # correct answer\n",
    "    error = ((np.dot(x,theta)-y))                           # define first part of squared error function\n",
    "    error_transpose = ((error.conj().T))                # define transpose of error\n",
    "    return (1/(2*m) * (np.dot(error_transpose,error)))  # have the function return the value of the cost"
   ]
  },
  {
   "cell_type": "markdown",
   "metadata": {},
   "source": [
    "### Paste you gradientDescent function here"
   ]
  },
  {
   "cell_type": "code",
   "execution_count": 7,
   "metadata": {},
   "outputs": [],
   "source": [
    "def gradientDescent(x,y,theta,alpha,num_iters):\n",
    "    # Initialize some useful values\n",
    "    m = len(y) # number of training examples\n",
    "    xTrans = x.transpose() # defines transpose of X\n",
    "    J_history = np.zeros((num_iters,1))\n",
    "    for i in range(0, num_iters):\n",
    "        ## Your answer\n",
    "        # Correct answer\n",
    "        h = np.dot(x, theta) # X * theta\n",
    "        loss = h - y         # X * theta - y\n",
    "        # avg gradient per example\n",
    "        gradient = np.dot(xTrans, loss)\n",
    "        # update\n",
    "        theta = theta - alpha/m * gradient\n",
    "        \n",
    "        ## End of your answer\n",
    "        # Saves costs in J_history\n",
    "        J_history[i] = np.sum(loss ** 2) / (2 * m)   # cost function J\n",
    "\n",
    "    return theta, J_history"
   ]
  },
  {
   "cell_type": "markdown",
   "metadata": {},
   "source": [
    "## Part 2: Gradient Descent"
   ]
  },
  {
   "cell_type": "code",
   "execution_count": 8,
   "metadata": {},
   "outputs": [],
   "source": [
    "# choose some alpha and iteration value\n",
    "alpha = 1\n",
    "num_iters = 400\n",
    "\n",
    "# initialize theta and run gradient descent\n",
    "theta = np.zeros((3,1))\n",
    "theta, J_history = gradientDescent(X, y, theta, alpha, num_iters)"
   ]
  },
  {
   "cell_type": "code",
   "execution_count": 9,
   "metadata": {},
   "outputs": [
    {
     "data": {
      "image/png": "[encoded data removed]",
      "text/plain": [
       "<Figure size 432x288 with 1 Axes>"
      ]
     },
     "metadata": {},
     "output_type": "display_data"
    },
    {
     "name": "stdout",
     "output_type": "stream",
     "text": [
      "Theta computed from gradient descent: \n",
      "\n",
      " 340412.659574 \n",
      " 109447.796470 \n",
      " -6578.354854 \n",
      "\n"
     ]
    }
   ],
   "source": [
    "# Plot convergence graph\n",
    "plt.figure()\n",
    "x_axis = np.arange(len(J_history))\n",
    "plt.plot(np.transpose(x_axis), J_history)\n",
    "plt.xlabel('Number of iterations')\n",
    "plt.ylabel('Cost J')\n",
    "# Set the limits of the plot if necessary\n",
    "# plt.ylim(2000000000, 5000000000)\n",
    "# plt.autoscale(False)\n",
    "plt.show()\n",
    "\n",
    "print('Theta computed from gradient descent: \\n')\n",
    "print(' %f \\n %f \\n %f \\n' % (theta[0], theta[1], theta[2]))\n"
   ]
  },
  {
   "cell_type": "markdown",
   "metadata": {},
   "source": [
    "### Complete this prediction\n",
    "Estimate the price of a 1650 sq-ft, 3 br house."
   ]
  },
  {
   "cell_type": "code",
   "execution_count": 10,
   "metadata": {},
   "outputs": [
    {
     "name": "stdout",
     "output_type": "stream",
     "text": [
      "Predicted price of a 1650 sq-ft, 3 br house (using gradient descent):\n",
      " 293081.464335 \n",
      "\n"
     ]
    }
   ],
   "source": [
    "price = 0\n",
    "## Your code\n",
    "\n",
    "# Correct answer\n",
    "price = np.dot(np.array([1,(1650-mu[:,0])/sigma[:,0], (3-mu[:,1])/sigma[:,1]]), theta) # normalized data\n",
    "\n",
    "print('Predicted price of a 1650 sq-ft, 3 br house (using ' \n",
    "      'gradient descent):\\n %f \\n' % price)"
   ]
  },
  {
   "cell_type": "markdown",
   "metadata": {},
   "source": [
    "## Part 3: Normal Equations"
   ]
  },
  {
   "cell_type": "code",
   "execution_count": 11,
   "metadata": {},
   "outputs": [
    {
     "name": "stdout",
     "output_type": "stream",
     "text": [
      "Solving with normal equations...\n",
      "\n",
      "Theta computed from the normal equations: \n",
      "\n",
      " 89597.909543 \n",
      " 139.210674 \n",
      "\n",
      "\n",
      "Predicted price of a 1650 sq-ft, 3 br house (using normal equations):\n",
      " 293081.464335\n",
      "\n"
     ]
    }
   ],
   "source": [
    "print('Solving with normal equations...\\n')\n",
    "data = np.array(pd.read_csv('ex1data2.txt', sep=\",\", header=None))\n",
    "X = data[:,0:2].reshape((47,2)) # initialize data X\n",
    "y = data[:,2].reshape((47,1))   # initialize data y\n",
    "m = len(y)                      # initialize value for m\n",
    "\n",
    "def normalEqn(X,y):\n",
    "    ## Your code here\n",
    "    \n",
    "    # Correct answer\n",
    "    ones = np.ones((len(y))) # initialize array with ones size 91x1\n",
    "    X = np.c_[ones,X]        # add a column of ones to x\n",
    "    theta = np.zeros((X.shape[1],1))  # initialize fitting parameters\n",
    "    \n",
    "    xTx = X.T.dot(X)\n",
    "    XtX = np.linalg.inv(xTx)\n",
    "    XtX_xT = XtX.dot(X.T)\n",
    "    theta = XtX_xT.dot(y)\n",
    "    return theta\n",
    "\n",
    "theta = normalEqn(X,y) # theta = (X'*X)^-1*X'*y\n",
    "\n",
    "# Display normal equation's result\n",
    "print('Theta computed from the normal equations: \\n')\n",
    "print(' %f \\n %f ' % (theta[0], theta[1]));\n",
    "print('\\n');\n",
    "\n",
    "#Estimate the price of a 1650 sq-ft, 3 br house\n",
    "######### Complete this prediction\n",
    "## Your code\n",
    "\n",
    "# correct answer\n",
    "price = np.dot([1, 1650, 3],theta)\n",
    "\n",
    "print('Predicted price of a 1650 sq-ft, 3 br house ' \n",
    "         '(using normal equations):\\n %f\\n' % price)\n",
    "\n"
   ]
  }
 ],
 "metadata": {
  "kernelspec": {
   "display_name": "Python 3",
   "language": "python",
   "name": "python3"
  },
  "language_info": {
   "codemirror_mode": {
    "name": "ipython",
    "version": 3
   },
   "file_extension": ".py",
   "mimetype": "text/x-python",
   "name": "python",
   "nbconvert_exporter": "python",
   "pygments_lexer": "ipython3",
   "version": "3.6.4"
  }
 },
 "nbformat": 4,
 "nbformat_minor": 2
}
